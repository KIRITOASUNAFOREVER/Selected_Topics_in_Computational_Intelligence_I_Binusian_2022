{
  "cells": [
    {
      "cell_type": "markdown",
      "source": [
        "   # ASSIGNMENT ANSWER (Genetic Algorithm Linear Regression)\n",
        "    #NAME        : EDWARD\n",
        "    #NIM         : 2201741971\n",
        "    #CLASS       : LTY-01\n",
        "    #LECTURER    : Dr. Ir. Diaz D. Santika, M.Sc.\n",
        "    #COURSE CODE : COMP8038041\n",
        "    #COURSE NAME : Selected Topics in Computational Intelligence I\n",
        "    #UNIVERSITY  : BINA NUSANTARA"
      ],
      "metadata": {
        "id": "pOcJ4YgEp756"
      }
    },
    {
      "cell_type": "markdown",
      "metadata": {
        "id": "4_Iz167ZlU7P"
      },
      "source": [
        "### Import Library Needed"
      ]
    },
    {
      "cell_type": "code",
      "execution_count": 1,
      "metadata": {
        "scrolled": false,
        "id": "ASmTMtoHlU7a"
      },
      "outputs": [],
      "source": [
        "import pandas as pd\n",
        "import numpy as np\n",
        "import matplotlib.pyplot as plt\n",
        "from sklearn import preprocessing\n",
        "%matplotlib inline"
      ]
    },
    {
      "cell_type": "markdown",
      "metadata": {
        "id": "YLHFQKW1lU7g"
      },
      "source": [
        "### Read CSV Data"
      ]
    },
    {
      "cell_type": "code",
      "source": [
        "df = pd.read_csv('Ecommerce Customers')"
      ],
      "metadata": {
        "id": "uzGnjjURPNdu"
      },
      "execution_count": 2,
      "outputs": []
    },
    {
      "cell_type": "code",
      "source": [
        "df.head()"
      ],
      "metadata": {
        "colab": {
          "base_uri": "https://localhost:8080/",
          "height": 250
        },
        "id": "g9sWftvVI_Sn",
        "outputId": "e3296d46-7dfa-407e-b16d-4c20e4756cee"
      },
      "execution_count": 3,
      "outputs": [
        {
          "output_type": "execute_result",
          "data": {
            "text/html": [
              "\n",
              "  <div id=\"df-925367cb-9324-4e1e-bbec-5ea906a0eb6a\">\n",
              "    <div class=\"colab-df-container\">\n",
              "      <div>\n",
              "<style scoped>\n",
              "    .dataframe tbody tr th:only-of-type {\n",
              "        vertical-align: middle;\n",
              "    }\n",
              "\n",
              "    .dataframe tbody tr th {\n",
              "        vertical-align: top;\n",
              "    }\n",
              "\n",
              "    .dataframe thead th {\n",
              "        text-align: right;\n",
              "    }\n",
              "</style>\n",
              "<table border=\"1\" class=\"dataframe\">\n",
              "  <thead>\n",
              "    <tr style=\"text-align: right;\">\n",
              "      <th></th>\n",
              "      <th>Email</th>\n",
              "      <th>Address</th>\n",
              "      <th>Avatar</th>\n",
              "      <th>Avg. Session Length</th>\n",
              "      <th>Time on App</th>\n",
              "      <th>Time on Website</th>\n",
              "      <th>Length of Membership</th>\n",
              "      <th>Yearly Amount Spent</th>\n",
              "    </tr>\n",
              "  </thead>\n",
              "  <tbody>\n",
              "    <tr>\n",
              "      <th>0</th>\n",
              "      <td>mstephenson@fernandez.com</td>\n",
              "      <td>835 Frank Tunnel\\nWrightmouth, MI 82180-9605</td>\n",
              "      <td>Violet</td>\n",
              "      <td>34.497268</td>\n",
              "      <td>12.655651</td>\n",
              "      <td>39.577668</td>\n",
              "      <td>4.082621</td>\n",
              "      <td>587.951054</td>\n",
              "    </tr>\n",
              "    <tr>\n",
              "      <th>1</th>\n",
              "      <td>hduke@hotmail.com</td>\n",
              "      <td>4547 Archer Common\\nDiazchester, CA 06566-8576</td>\n",
              "      <td>DarkGreen</td>\n",
              "      <td>31.926272</td>\n",
              "      <td>11.109461</td>\n",
              "      <td>37.268959</td>\n",
              "      <td>2.664034</td>\n",
              "      <td>392.204933</td>\n",
              "    </tr>\n",
              "    <tr>\n",
              "      <th>2</th>\n",
              "      <td>pallen@yahoo.com</td>\n",
              "      <td>24645 Valerie Unions Suite 582\\nCobbborough, D...</td>\n",
              "      <td>Bisque</td>\n",
              "      <td>33.000915</td>\n",
              "      <td>11.330278</td>\n",
              "      <td>37.110597</td>\n",
              "      <td>4.104543</td>\n",
              "      <td>487.547505</td>\n",
              "    </tr>\n",
              "    <tr>\n",
              "      <th>3</th>\n",
              "      <td>riverarebecca@gmail.com</td>\n",
              "      <td>1414 David Throughway\\nPort Jason, OH 22070-1220</td>\n",
              "      <td>SaddleBrown</td>\n",
              "      <td>34.305557</td>\n",
              "      <td>13.717514</td>\n",
              "      <td>36.721283</td>\n",
              "      <td>3.120179</td>\n",
              "      <td>581.852344</td>\n",
              "    </tr>\n",
              "    <tr>\n",
              "      <th>4</th>\n",
              "      <td>mstephens@davidson-herman.com</td>\n",
              "      <td>14023 Rodriguez Passage\\nPort Jacobville, PR 3...</td>\n",
              "      <td>MediumAquaMarine</td>\n",
              "      <td>33.330673</td>\n",
              "      <td>12.795189</td>\n",
              "      <td>37.536653</td>\n",
              "      <td>4.446308</td>\n",
              "      <td>599.406092</td>\n",
              "    </tr>\n",
              "  </tbody>\n",
              "</table>\n",
              "</div>\n",
              "      <button class=\"colab-df-convert\" onclick=\"convertToInteractive('df-925367cb-9324-4e1e-bbec-5ea906a0eb6a')\"\n",
              "              title=\"Convert this dataframe to an interactive table.\"\n",
              "              style=\"display:none;\">\n",
              "        \n",
              "  <svg xmlns=\"http://www.w3.org/2000/svg\" height=\"24px\"viewBox=\"0 0 24 24\"\n",
              "       width=\"24px\">\n",
              "    <path d=\"M0 0h24v24H0V0z\" fill=\"none\"/>\n",
              "    <path d=\"M18.56 5.44l.94 2.06.94-2.06 2.06-.94-2.06-.94-.94-2.06-.94 2.06-2.06.94zm-11 1L8.5 8.5l.94-2.06 2.06-.94-2.06-.94L8.5 2.5l-.94 2.06-2.06.94zm10 10l.94 2.06.94-2.06 2.06-.94-2.06-.94-.94-2.06-.94 2.06-2.06.94z\"/><path d=\"M17.41 7.96l-1.37-1.37c-.4-.4-.92-.59-1.43-.59-.52 0-1.04.2-1.43.59L10.3 9.45l-7.72 7.72c-.78.78-.78 2.05 0 2.83L4 21.41c.39.39.9.59 1.41.59.51 0 1.02-.2 1.41-.59l7.78-7.78 2.81-2.81c.8-.78.8-2.07 0-2.86zM5.41 20L4 18.59l7.72-7.72 1.47 1.35L5.41 20z\"/>\n",
              "  </svg>\n",
              "      </button>\n",
              "      \n",
              "  <style>\n",
              "    .colab-df-container {\n",
              "      display:flex;\n",
              "      flex-wrap:wrap;\n",
              "      gap: 12px;\n",
              "    }\n",
              "\n",
              "    .colab-df-convert {\n",
              "      background-color: #E8F0FE;\n",
              "      border: none;\n",
              "      border-radius: 50%;\n",
              "      cursor: pointer;\n",
              "      display: none;\n",
              "      fill: #1967D2;\n",
              "      height: 32px;\n",
              "      padding: 0 0 0 0;\n",
              "      width: 32px;\n",
              "    }\n",
              "\n",
              "    .colab-df-convert:hover {\n",
              "      background-color: #E2EBFA;\n",
              "      box-shadow: 0px 1px 2px rgba(60, 64, 67, 0.3), 0px 1px 3px 1px rgba(60, 64, 67, 0.15);\n",
              "      fill: #174EA6;\n",
              "    }\n",
              "\n",
              "    [theme=dark] .colab-df-convert {\n",
              "      background-color: #3B4455;\n",
              "      fill: #D2E3FC;\n",
              "    }\n",
              "\n",
              "    [theme=dark] .colab-df-convert:hover {\n",
              "      background-color: #434B5C;\n",
              "      box-shadow: 0px 1px 3px 1px rgba(0, 0, 0, 0.15);\n",
              "      filter: drop-shadow(0px 1px 2px rgba(0, 0, 0, 0.3));\n",
              "      fill: #FFFFFF;\n",
              "    }\n",
              "  </style>\n",
              "\n",
              "      <script>\n",
              "        const buttonEl =\n",
              "          document.querySelector('#df-925367cb-9324-4e1e-bbec-5ea906a0eb6a button.colab-df-convert');\n",
              "        buttonEl.style.display =\n",
              "          google.colab.kernel.accessAllowed ? 'block' : 'none';\n",
              "\n",
              "        async function convertToInteractive(key) {\n",
              "          const element = document.querySelector('#df-925367cb-9324-4e1e-bbec-5ea906a0eb6a');\n",
              "          const dataTable =\n",
              "            await google.colab.kernel.invokeFunction('convertToInteractive',\n",
              "                                                     [key], {});\n",
              "          if (!dataTable) return;\n",
              "\n",
              "          const docLinkHtml = 'Like what you see? Visit the ' +\n",
              "            '<a target=\"_blank\" href=https://colab.research.google.com/notebooks/data_table.ipynb>data table notebook</a>'\n",
              "            + ' to learn more about interactive tables.';\n",
              "          element.innerHTML = '';\n",
              "          dataTable['output_type'] = 'display_data';\n",
              "          await google.colab.output.renderOutput(dataTable, element);\n",
              "          const docLink = document.createElement('div');\n",
              "          docLink.innerHTML = docLinkHtml;\n",
              "          element.appendChild(docLink);\n",
              "        }\n",
              "      </script>\n",
              "    </div>\n",
              "  </div>\n",
              "  "
            ],
            "text/plain": [
              "                           Email  ... Yearly Amount Spent\n",
              "0      mstephenson@fernandez.com  ...          587.951054\n",
              "1              hduke@hotmail.com  ...          392.204933\n",
              "2               pallen@yahoo.com  ...          487.547505\n",
              "3        riverarebecca@gmail.com  ...          581.852344\n",
              "4  mstephens@davidson-herman.com  ...          599.406092\n",
              "\n",
              "[5 rows x 8 columns]"
            ]
          },
          "metadata": {},
          "execution_count": 3
        }
      ]
    },
    {
      "cell_type": "markdown",
      "metadata": {
        "id": "PD7nL8fFlU7i"
      },
      "source": [
        "### Choose 2 Column"
      ]
    },
    {
      "cell_type": "code",
      "execution_count": 4,
      "metadata": {
        "scrolled": false,
        "id": "TYZOERR-lU7i"
      },
      "outputs": [],
      "source": [
        "curr = 'Length of Membership'\n",
        "curr2 = 'Yearly Amount Spent'"
      ]
    },
    {
      "cell_type": "markdown",
      "source": [
        "### Plotting"
      ],
      "metadata": {
        "id": "mpIvkuOK58Jt"
      }
    },
    {
      "cell_type": "code",
      "source": [
        "days = 180\n",
        "X = preprocessing.normalize(df[curr].values.reshape(-1, 1)[-days:], axis=0, norm='max')\n",
        "y = preprocessing.normalize(df[curr2].values.reshape(-1, 1)[-days:], axis=0, norm='max')\n",
        "plt.scatter(X, y, marker='o', color='blue', s=3)\n",
        "plt.xlabel(curr)\n",
        "plt.ylabel(curr2)"
      ],
      "metadata": {
        "colab": {
          "base_uri": "https://localhost:8080/",
          "height": 296
        },
        "id": "e515lZme6AEs",
        "outputId": "d67466ad-9d02-42d7-d3dc-e01ceca2fb0a"
      },
      "execution_count": 5,
      "outputs": [
        {
          "output_type": "execute_result",
          "data": {
            "text/plain": [
              "Text(0, 0.5, 'Yearly Amount Spent')"
            ]
          },
          "metadata": {},
          "execution_count": 5
        },
        {
          "output_type": "display_data",
          "data": {
            "image/png": "[encoded data removed]",
            "text/plain": [
              "<Figure size 432x288 with 1 Axes>"
            ]
          },
          "metadata": {
            "needs_background": "light"
          }
        }
      ]
    },
    {
      "cell_type": "code",
      "execution_count": 6,
      "metadata": {
        "scrolled": false,
        "colab": {
          "base_uri": "https://localhost:8080/"
        },
        "id": "pVDV7lVllU7q",
        "outputId": "d3ca372d-f6ff-411e-9f33-64c505c72abb"
      },
      "outputs": [
        {
          "output_type": "stream",
          "name": "stdout",
          "text": [
            "Coefficient : 0.5462 \n",
            "Intercept : 0.3845\n"
          ]
        }
      ],
      "source": [
        "# Create Linear Regression model and fit the data\n",
        "from sklearn.linear_model import LinearRegression\n",
        "model = LinearRegression()\n",
        "model.fit(X, y)\n",
        "print('Coefficient :', np.round(model.coef_[0][0],decimals=4),\n",
        "      '\\nIntercept :', np.round(model.intercept_[0], decimals=4))"
      ]
    },
    {
      "cell_type": "code",
      "source": [
        "# Predict the data with the found best fit line and plot it\n",
        "line = model.predict(X)\n",
        "plt.scatter(X, y, marker='o', color='blue', s=3)\n",
        "plt.plot(X, line, color='red')\n",
        "plt.xlabel(curr)\n",
        "plt.ylabel(curr2)"
      ],
      "metadata": {
        "colab": {
          "base_uri": "https://localhost:8080/",
          "height": 296
        },
        "id": "79_Ih8k2J52F",
        "outputId": "fdec24ab-269f-4e7e-93b3-2897b6be3e71"
      },
      "execution_count": 7,
      "outputs": [
        {
          "output_type": "execute_result",
          "data": {
            "text/plain": [
              "Text(0, 0.5, 'Yearly Amount Spent')"
            ]
          },
          "metadata": {},
          "execution_count": 7
        },
        {
          "output_type": "display_data",
          "data": {
            "image/png": "[encoded data removed]",
            "text/plain": [
              "<Figure size 432x288 with 1 Axes>"
            ]
          },
          "metadata": {
            "needs_background": "light"
          }
        }
      ]
    },
    {
      "cell_type": "markdown",
      "source": [
        "### GA functions"
      ],
      "metadata": {
        "id": "QF9QRhXVmW90"
      }
    },
    {
      "cell_type": "code",
      "execution_count": 8,
      "metadata": {
        "scrolled": false,
        "id": "qodYnmUFlU7r"
      },
      "outputs": [],
      "source": [
        "def fitness(solution):\n",
        "    '''Fitness function is the Ordinary Least Squares'''\n",
        "    return 1/len(X)*np.sum(np.power(y-np.concatenate((X,np.ones((X.shape[0],1))),axis=1).dot(solution.reshape(-1,1)),2))"
      ]
    },
    {
      "cell_type": "code",
      "execution_count": 9,
      "metadata": {
        "id": "FfdpGPZDlU7s"
      },
      "outputs": [],
      "source": [
        "def genPopulation(size=400):\n",
        "    '''Generate population of size individuals'''\n",
        "    # Coefficient and intercept in the range [-1, 1] since all data has been normalized with maximum value\n",
        "    solutions = ((np.random.rand(size, 2) * 2) - 1)\n",
        "    return solutions"
      ]
    },
    {
      "cell_type": "code",
      "execution_count": 10,
      "metadata": {
        "id": "xIB_YynElU7t"
      },
      "outputs": [],
      "source": [
        "def selectBest(solutions):\n",
        "    '''Return the best 20 solution for current population'''\n",
        "    fitnesses = np.apply_along_axis(fitness, 1, solutions)\n",
        "    return solutions[np.argsort(fitnesses, axis=0)[:20],:]"
      ]
    },
    {
      "cell_type": "code",
      "execution_count": 11,
      "metadata": {
        "id": "CvTdfnf8lU7u"
      },
      "outputs": [],
      "source": [
        "def crossover(sol1, sol2):\n",
        "    '''Perform crossover between two solutions by exchanging the intercepts and maintaining the coefficient'''\n",
        "    offsprings = np.array([[sol1[0], sol2[1]]])\n",
        "    offsprings = np.vstack((offsprings, [[sol2[0], sol1[1]]]))\n",
        "    offsprings = np.vstack((offsprings, [sol2]))\n",
        "    return offsprings"
      ]
    },
    {
      "cell_type": "code",
      "execution_count": 12,
      "metadata": {
        "id": "xFcZd6b2lU7v"
      },
      "outputs": [],
      "source": [
        "def mutation(sol):\n",
        "    '''Perform mutation on the solution'''\n",
        "    mutationProb = 0.15\n",
        "    if np.random.rand() < mutationProb:\n",
        "        sol = sol + (((np.random.rand(2) * 2) - 1) * 0.1)\n",
        "    return sol"
      ]
    },
    {
      "cell_type": "markdown",
      "source": [
        "### Perform epochs while executing the genetic algorithm and Print the Best"
      ],
      "metadata": {
        "id": "CiEulXUBmpMW"
      }
    },
    {
      "cell_type": "code",
      "execution_count": 13,
      "metadata": {
        "colab": {
          "base_uri": "https://localhost:8080/"
        },
        "id": "GWZPCDRtlU7w",
        "outputId": "52319bf2-b785-4c92-ca5a-9e83c631a107"
      },
      "outputs": [
        {
          "output_type": "stream",
          "name": "stdout",
          "text": [
            "[0.53705133 0.38919249]\n"
          ]
        }
      ],
      "source": [
        "%matplotlib nbagg\n",
        "\n",
        "size = 400\n",
        "solutions = genPopulation(size)\n",
        "epochs = 300\n",
        "best = []\n",
        "inter_sol = []\n",
        "\n",
        "for i in range(epochs):\n",
        "    bestSols = selectBest(solutions)\n",
        "    if i != 0 and fitness(bestSols[0]) < fitness(best):\n",
        "        best = bestSols[0]\n",
        "    else:\n",
        "        best = bestSols[0]\n",
        "    predict = np.concatenate((X, np.ones((X.shape[0],1))), axis=1).dot(best.transpose())\n",
        "    inter_sol.append(predict)\n",
        "    # Elitism\n",
        "    newPopulation = np.array(best)\n",
        "    for j in range(len(bestSols)-1):\n",
        "        newPopulation = np.vstack((newPopulation, crossover(bestSols[j], bestSols[j+1])))\n",
        "    newPopulation = np.apply_along_axis(mutation, 1, newPopulation)\n",
        "    solutions = newPopulation\n",
        "print(best)"
      ]
    },
    {
      "cell_type": "markdown",
      "source": [
        "### Use the best candidate solution to predict the data and plot the GA found line"
      ],
      "metadata": {
        "id": "UefVZzXpnQZa"
      }
    },
    {
      "cell_type": "code",
      "execution_count": 14,
      "metadata": {
        "colab": {
          "base_uri": "https://localhost:8080/",
          "height": 296
        },
        "id": "ATmUrhp_lU7w",
        "outputId": "e44a1009-33df-42d6-c5f2-99242ad919ef"
      },
      "outputs": [
        {
          "output_type": "execute_result",
          "data": {
            "text/plain": [
              "<matplotlib.legend.Legend at 0x7fb0c349c590>"
            ]
          },
          "metadata": {},
          "execution_count": 14
        },
        {
          "output_type": "display_data",
          "data": {
            "image/png": "[encoded data removed]",
            "text/plain": [
              "<Figure size 432x288 with 1 Axes>"
            ]
          },
          "metadata": {
            "needs_background": "light"
          }
        }
      ],
      "source": [
        "%matplotlib inline\n",
        "\n",
        "predict = np.concatenate((X, np.ones((X.shape[0],1))), axis=1).dot(best.transpose())\n",
        "plt.scatter(X, y, marker='o', color='blue', s=3)\n",
        "plt.plot(X, line, color='red', label='Regression')\n",
        "plt.plot(X, predict, color='green', label='GA')\n",
        "plt.xlabel(curr)\n",
        "plt.ylabel(curr2)\n",
        "plt.legend(loc='best')"
      ]
    },
    {
      "cell_type": "markdown",
      "metadata": {
        "id": "OYZhCcfxlU7x"
      },
      "source": [
        "### Use FuncAnimation and PillowWriter to generate a gif file of the approximation procedure"
      ]
    },
    {
      "cell_type": "code",
      "execution_count": 15,
      "metadata": {
        "scrolled": false,
        "colab": {
          "base_uri": "https://localhost:8080/",
          "height": 282
        },
        "id": "5Jrz2UpYlU7y",
        "outputId": "edfe1d0c-268d-4734-b3ec-bc6db60a2f18"
      },
      "outputs": [
        {
          "output_type": "execute_result",
          "data": {
            "text/plain": [
              "<matplotlib.legend.Legend at 0x7fb0c34b4b90>"
            ]
          },
          "metadata": {},
          "execution_count": 15
        },
        {
          "output_type": "display_data",
          "data": {
            "image/png": "[encoded data removed]",
            "text/plain": [
              "<Figure size 432x288 with 1 Axes>"
            ]
          },
          "metadata": {
            "needs_background": "light"
          }
        }
      ],
      "source": [
        "from matplotlib import animation, rc\n",
        "import networkx as nx\n",
        "from matplotlib.animation import FuncAnimation, PillowWriter \n",
        "\n",
        "fig, ax = plt.subplots()\n",
        "rc('animation', html='html5')\n",
        "\n",
        "ax.scatter(X, y, marker='o', color='blue', s=3)\n",
        "ax.plot(X, line, color='red', label='Regression')\n",
        "ga_line, = ax.plot([], [], color='green', label='GA')\n",
        "ax.legend(loc='best')"
      ]
    },
    {
      "cell_type": "code",
      "execution_count": 16,
      "metadata": {
        "id": "dvZVvug2lU7y"
      },
      "outputs": [],
      "source": [
        "def solver(i):\n",
        "    ga_line.set_data(X, inter_sol[i])\n",
        "    ax.set_xlabel('epoch {0}'.format(i))\n",
        "    return ga_line, ax"
      ]
    },
    {
      "cell_type": "code",
      "execution_count": 17,
      "metadata": {
        "id": "nsArI7sElU7y"
      },
      "outputs": [],
      "source": [
        "anim = animation.FuncAnimation(fig, solver, frames=np.arange(0, 300), interval=80, repeat=False)"
      ]
    },
    {
      "cell_type": "code",
      "execution_count": 18,
      "metadata": {
        "scrolled": false,
        "id": "SFOpLwwSlU7z"
      },
      "outputs": [],
      "source": [
        "anim.save('GA_Regression_Animation_Per_Epochs.gif', dpi=80, writer='pillow')"
      ]
    },
    {
      "cell_type": "markdown",
      "source": [
        "### This is a simple example of the application of genetic algorithms in the approximation of the best fitting line to a set of datapoints."
      ],
      "metadata": {
        "id": "xi5qMyCRsBBV"
      }
    },
    {
      "cell_type": "markdown",
      "source": [
        "#### While the best fitting line can be solved with much faster methods like Ordinary Least Squares, this shows the wide application of genetic algorithms in optimization problems."
      ],
      "metadata": {
        "id": "3QjJbqSYsTk5"
      }
    },
    {
      "cell_type": "markdown",
      "source": [
        "#### This approach can be also considered as a substitute for Gradient Descent especially when the gradient of the loss function is not entirely defined over the parameter space."
      ],
      "metadata": {
        "id": "DKUSFAL6seDX"
      }
    }
  ],
  "metadata": {
    "kernelspec": {
      "display_name": "Python 3",
      "language": "python",
      "name": "python3"
    },
    "language_info": {
      "codemirror_mode": {
        "name": "ipython",
        "version": 3
      },
      "file_extension": ".py",
      "mimetype": "text/x-python",
      "name": "python",
      "nbconvert_exporter": "python",
      "pygments_lexer": "ipython3",
      "version": "3.7.6"
    },
    "colab": {
      "name": "GeneticAlgorithm_Linear_Regression.ipynb",
      "provenance": [],
      "collapsed_sections": []
    }
  },
  "nbformat": 4,
  "nbformat_minor": 0
}