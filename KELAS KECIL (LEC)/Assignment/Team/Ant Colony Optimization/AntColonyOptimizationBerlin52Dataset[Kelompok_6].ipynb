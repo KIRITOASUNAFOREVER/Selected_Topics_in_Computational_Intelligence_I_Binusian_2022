{
 "cells": [
  {
   "cell_type": "markdown",
   "metadata": {},
   "source": [
    "### Course                    : Selected Topics in Computational Intelligence I\n",
    "### Course Code          : COMP8038\n",
    "### Lecturer Name       : Amalia Zahra, S.Kom., Ph. D.\n",
    "### Lecturer Code        : D5990\n",
    "### Class                       : LTY-1 "
   ]
  },
  {
   "cell_type": "markdown",
   "metadata": {},
   "source": [
    "## Tugas Kelompok Ant Colony Optimization Algorithm Berlin52 Dataset"
   ]
  },
  {
   "cell_type": "markdown",
   "metadata": {},
   "source": [
    "#### Kelompok 6:\n",
    "#### Aldo Jonathan Handaka (2201736971)\n",
    "#### Alim Raharjo (2201748164)\n",
    "#### Edward (2201741971)\t\n",
    "#### Raffael Lucas Tatulus (2201742356)\n",
    "#### Richard Geovani (2201734096)"
   ]
  },
  {
   "cell_type": "markdown",
   "metadata": {},
   "source": [
    "### Read Dataset"
   ]
  },
  {
   "cell_type": "code",
   "execution_count": 1,
   "metadata": {},
   "outputs": [
    {
     "name": "stdout",
     "output_type": "stream",
     "text": [
      "[[565.0, 575.0], [25.0, 185.0], [345.0, 750.0], [945.0, 685.0], [845.0, 655.0], [880.0, 660.0], [25.0, 230.0], [525.0, 1000.0], [580.0, 1175.0], [650.0, 1130.0], [1605.0, 620.0], [1220.0, 580.0], [1465.0, 200.0], [1530.0, 5.0], [845.0, 680.0], [725.0, 370.0], [145.0, 665.0], [415.0, 635.0], [510.0, 875.0], [560.0, 365.0], [300.0, 465.0], [520.0, 585.0], [480.0, 415.0], [835.0, 625.0], [975.0, 580.0], [1215.0, 245.0], [1320.0, 315.0], [1250.0, 400.0], [660.0, 180.0], [410.0, 250.0], [420.0, 555.0], [575.0, 665.0], [1150.0, 1160.0], [700.0, 580.0], [685.0, 595.0], [685.0, 610.0], [770.0, 610.0], [795.0, 645.0], [720.0, 635.0], [760.0, 650.0], [475.0, 960.0], [95.0, 260.0], [875.0, 920.0], [700.0, 500.0], [555.0, 815.0], [830.0, 485.0], [1170.0, 65.0], [830.0, 610.0], [605.0, 625.0], [595.0, 360.0], [1340.0, 725.0], [1740.0, 245.0]]\n"
     ]
    }
   ],
   "source": [
    "import numpy as np\n",
    "from numpy import inf\n",
    "import matplotlib.pyplot as plt\n",
    "locations = []\n",
    "f = open(\"berlin52Aco.txt\", \"r+\")\n",
    "u = f\n",
    "for line in u:\n",
    "    line = line.split(\" \", 1)[1]\n",
    "    y = line.split()\n",
    "    y[0] = float(y[0])\n",
    "    y[1] = float(y[1])\n",
    "    locations.append(y)\n",
    "print(locations)"
   ]
  },
  {
   "cell_type": "code",
   "execution_count": 2,
   "metadata": {},
   "outputs": [],
   "source": [
    "dist = np.zeros((52,52))\n",
    "for i,city in enumerate(locations):\n",
    "    for j,city2 in enumerate(locations): \n",
    "        dist[i][j] = np.linalg.norm(np.array(city)-np.array(city2))\n",
    "\n",
    "d = dist"
   ]
  },
  {
   "cell_type": "markdown",
   "metadata": {},
   "source": [
    "### Initialize City, Ants, Pheromone, Alpha, Beta"
   ]
  },
  {
   "cell_type": "code",
   "execution_count": 3,
   "metadata": {},
   "outputs": [
    {
     "name": "stdout",
     "output_type": "stream",
     "text": [
      "[[0.         0.00150126 0.00355728 ... 0.00460653 0.00126681 0.00081936]\n",
      " [0.00150126 0.         0.00154006 ... 0.00167712 0.00070345 0.00058273]\n",
      " [0.00355728 0.00154006 0.         ... 0.00215866 0.00100471 0.00067404]\n",
      " ...\n",
      " [0.00460653 0.00167712 0.00215866 ... 0.         0.00120539 0.00086899]\n",
      " [0.00126681 0.00070345 0.00100471 ... 0.00120539 0.         0.00160046]\n",
      " [0.00081936 0.00058273 0.00067404 ... 0.00086899 0.00160046 0.        ]]\n"
     ]
    },
    {
     "name": "stderr",
     "output_type": "stream",
     "text": [
      "c:\\users\\dell\\appdata\\local\\programs\\python\\python37\\lib\\site-packages\\ipykernel_launcher.py:5: RuntimeWarning: divide by zero encountered in true_divide\n",
      "  \"\"\"\n"
     ]
    }
   ],
   "source": [
    "iteration = 1000\n",
    "n_city = 52 \n",
    "n_ants = 52\n",
    "total_p = 1\n",
    "pheromone_per_path = total_p/d\n",
    "pheromone_per_path[pheromone_per_path == inf] = 0\n",
    "print(pheromone_per_path)\n",
    "alpha = 0.85 \n",
    "beta = 1.7\n",
    "ini_p = np.ones((n_ants, n_city))\n",
    "rute = np.ones((n_ants, n_city+1))\n",
    "run = 0\n",
    "bestp = []"
   ]
  },
  {
   "cell_type": "markdown",
   "metadata": {},
   "source": [
    "### Ant Colony Optimization Result for berlin52 Dataset"
   ]
  },
  {
   "cell_type": "code",
   "execution_count": 4,
   "metadata": {},
   "outputs": [
    {
     "name": "stdout",
     "output_type": "stream",
     "text": [
      "route of all the ants at the end :\n",
      "[[ 1. 22. 32. ... 50. 18.  1.]\n",
      " [ 1. 22. 32. ... 50. 18.  1.]\n",
      " [ 1. 22. 32. ... 50. 18.  1.]\n",
      " ...\n",
      " [ 1. 22. 32. ... 50. 18.  1.]\n",
      " [ 1. 22. 32. ... 50. 18.  1.]\n",
      " [ 1. 22. 32. ... 50. 18.  1.]]\n",
      "\n",
      "best path : [ 1. 22. 32. 49. 36. 39. 40. 37. 38. 24. 48.  5. 15.  6.  4. 25. 12. 28.\n",
      " 27. 26. 47. 14. 13. 52. 11. 51. 33. 43. 10.  9.  8. 41. 19. 45.  3. 17.\n",
      " 42.  7.  2. 30. 29. 16. 46. 44. 34. 35. 31. 21. 23. 20. 50. 18.  1.]\n",
      "cost of the best path 8253.554944214035\n"
     ]
    },
    {
     "data": {
      "image/png": "[encoded data removed]",
      "text/plain": [
       "<Figure size 432x288 with 1 Axes>"
      ]
     },
     "metadata": {
      "needs_background": "light"
     },
     "output_type": "display_data"
    }
   ],
   "source": [
    "while run < 1:\n",
    "    m = n_ants\n",
    "    n = n_city\n",
    "    pheromne = ini_p\n",
    "    e = .2         \n",
    "    alpha = 1    \n",
    "    beta = 1.8 \n",
    "    visibility = pheromone_per_path\n",
    "    for ite in range(iteration):\n",
    "        rute[:,0] = 1         \n",
    "        for i in range(m):\n",
    "            temp_visibility = np.array(visibility)        \n",
    "            for j in range(n-1):\n",
    "                #print(rute)\n",
    "                combine_feature = np.zeros(52)     \n",
    "                cum_prob = np.zeros(52)            \n",
    "                cur_loc = int(rute[i,j]-1)        \n",
    "    #             print(\"cur_loc\",cur_loc)\n",
    "                temp_visibility[:,cur_loc] = 0     \n",
    "    #             print(temp_visibility)\n",
    "    #             print(\"pheromne\",pheromne[cur_loc,:])\n",
    "                p_feature = np.power(pheromne[cur_loc,:],beta)        \n",
    "                v_feature = np.power(temp_visibility[cur_loc,:],alpha)  \n",
    "                p_feature = p_feature[:,np.newaxis]                     \n",
    "                v_feature = v_feature[:,np.newaxis]                     \n",
    "                combine_feature = np.multiply(p_feature,v_feature)     \n",
    "                total = np.sum(combine_feature)                        \n",
    "                probs = combine_feature/total   \n",
    "                cum_prob = np.cumsum(probs)    \n",
    "                #print(cum_prob)\n",
    "                r = np.random.random_sample()   \n",
    "                #print(r)\n",
    "                city = np.nonzero(cum_prob>r)[0][0]+1       \n",
    "                #print(city)\n",
    "                rute[i,j+1] = city              \n",
    "            left = list(set([i for i in range(1,n+1)])-set(rute[i,:-2]))[0]   \n",
    "            rute[i,-2] = left                   \n",
    "        rute_opt = np.array(rute)              \n",
    "        dist_cost = np.zeros((m,1)) \n",
    "        for i in range(m):\n",
    "            s = 0\n",
    "            for j in range(n-1):\n",
    "                s = s + d[int(rute_opt[i,j])-1,int(rute_opt[i,j+1])-1]  \n",
    "            dist_cost[i]=s                      \n",
    "        dist_min_loc = np.argmin(dist_cost)             \n",
    "        dist_min_cost = dist_cost[dist_min_loc]        \n",
    "        best_route = rute[dist_min_loc,:]               \n",
    "        pheromne = (1-e)*pheromne                      \n",
    "        for i in range(m):\n",
    "            for j in range(n-1):\n",
    "                dt = 1/dist_cost[i]\n",
    "                pheromne[int(rute_opt[i,j])-1,int(rute_opt[i,j+1])-1] = pheromne[int(rute_opt[i,j])-1,int(rute_opt[i,j+1])-1] + dt   \n",
    "        best_dist = int(dist_min_cost[0]) + d[int(best_route[-2])-1,0]\n",
    "        bestp.append(best_dist)\n",
    "    print('route of all the ants at the end :')\n",
    "    print(rute_opt)\n",
    "    print()\n",
    "    print('best path :',best_route)\n",
    "    print('cost of the best path',int(dist_min_cost[0]) + d[int(best_route[-2])-1,0])\n",
    "    plt.plot(bestp)\n",
    "    f = open(\"berlin_52_E.txt\", \"a\")\n",
    "    f.write(\"Run {}/{} Length of best path: {}\\n\".format(run, 10,int(dist_min_cost[0]) + d[int(best_route[-2])-1,0]))\n",
    "    run +=1"
   ]
  },
  {
   "cell_type": "code",
   "execution_count": null,
   "metadata": {},
   "outputs": [],
   "source": []
  }
 ],
 "metadata": {
  "kernelspec": {
   "display_name": "Python 3",
   "language": "python",
   "name": "python3"
  },
  "language_info": {
   "codemirror_mode": {
    "name": "ipython",
    "version": 3
   },
   "file_extension": ".py",
   "mimetype": "text/x-python",
   "name": "python",
   "nbconvert_exporter": "python",
   "pygments_lexer": "ipython3",
   "version": "3.7.6"
  }
 },
 "nbformat": 4,
 "nbformat_minor": 4
}
