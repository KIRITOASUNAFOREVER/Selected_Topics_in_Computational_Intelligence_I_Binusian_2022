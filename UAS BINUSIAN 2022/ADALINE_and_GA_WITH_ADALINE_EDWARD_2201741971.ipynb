{
  "nbformat": 4,
  "nbformat_minor": 0,
  "metadata": {
    "colab": {
      "name": "ADALINE_and_GA_WITH_ADALINE_EDWARD_2201741971.ipynb",
      "provenance": [],
      "collapsed_sections": []
    },
    "kernelspec": {
      "name": "python3",
      "display_name": "Python 3"
    },
    "language_info": {
      "name": "python"
    }
  },
  "cells": [
    {
      "cell_type": "markdown",
      "source": [
        "# --------------------------------------------------------------------------------------------\n",
        "#   Nama : Edward\n",
        "#   NIM : 2201741971                                                                               \n",
        "#   Selected Topics in Computational Intelligence I (COMP8038041)\n",
        "#   Kelas : LTY1                                                                                       \n",
        "# --------------------------------------------------------------------------------------------"
      ],
      "metadata": {
        "id": "z45EXglFe2Hk"
      }
    },
    {
      "cell_type": "markdown",
      "source": [
        "## ADALINE WITHOUT GENETIC AlGORITHM"
      ],
      "metadata": {
        "id": "fMDFz7zAe46N"
      }
    },
    {
      "cell_type": "code",
      "execution_count": 1,
      "metadata": {
        "id": "lgfEUPx8i6uJ"
      },
      "outputs": [],
      "source": [
        "import matplotlib.pyplot as plt\n",
        "from matplotlib.colors import ListedColormap\n",
        "import numpy as np"
      ]
    },
    {
      "cell_type": "code",
      "source": [
        "# the features for the or model , here I have taken the possible values for combination of two inputs\n",
        "features = np.array(\n",
        "    [\n",
        "        [0.08, 0.72],\n",
        "        [0.26, 0.58],\n",
        "        [0.45, 0.15],\n",
        "        [0.60, 0.30],\n",
        "        [0.10, 1.0],\n",
        "        [0.35, 0.95],\n",
        "        [0.70, 0.65],\n",
        "        [0.92, 0.45]\n",
        "    ])"
      ],
      "metadata": {
        "id": "Gd2siU2MjBk0"
      },
      "execution_count": 2,
      "outputs": []
    },
    {
      "cell_type": "code",
      "source": [
        "# labels for the or model, here the output for the features is taken as an array\n",
        "labels = np.array([1, 1, 1, 1, -1, -1, -1, -1])"
      ],
      "metadata": {
        "id": "zs5jwmO0jFKz"
      },
      "execution_count": 3,
      "outputs": []
    },
    {
      "cell_type": "code",
      "source": [
        "class AdalineGD(object):\n",
        "\t\"\"\"ADAptive LInear NEuron classifier.\n",
        "\tParameters\n",
        "\t-----------\n",
        "\teta : float\n",
        "\t\tLearning rate (between 0.0 and 1.0)\n",
        "\tn_iter : int\n",
        "\t\tPasses over the training dataset.\n",
        "\tAttributes\n",
        "\t-----------\n",
        "\tw_ : 1d-array\n",
        "\t\tWeights after fitting.\n",
        "\terrors_ : list\n",
        "\t\tNumber of misclassifications in every epoch.\n",
        "\t\"\"\"\n",
        "\n",
        "\tdef __init__(self, eta = 0.1, n_iter = 100):\n",
        "\t\tself.eta = eta\n",
        "\t\tself.n_iter = n_iter\n",
        "\n",
        "\tdef fit(self, X, y):\n",
        "\n",
        "\t\t\"\"\" Fit training data.\n",
        "\t\tParameters\n",
        "\t\t-----------\n",
        "\t\tX : {array-like}, shape = [n_samples, n_features]\n",
        "\t\t\tTraining vectors,\n",
        "\t\t\twhere n_samples is the number of samples and\n",
        "\t\t\tn_features is the number of features.\n",
        "\t\ty : array-like, shape = [n_samples]\n",
        "\t\t\tTarget values.\n",
        "\t\tReturn\n",
        "\t\t-------\n",
        "\t\tself : object\n",
        "\t\t\"\"\"\n",
        "\n",
        "\t\tself.w_ = np.zeros(1 + X.shape[1])\n",
        "\t\tself.cost_ = []\n",
        "\n",
        "\t\tfor i in range(self.n_iter):\n",
        "\t\t\toutput = self.net_input(X)\n",
        "\t\t\terrors = (y - output)\n",
        "\t\t\tself.w_[1:] += self.eta * X.T.dot(errors)\n",
        "\t\t\tself.w_[0] += self.eta * errors.sum()\n",
        "\t\t\tcost = (errors ** 2).sum() / 2.0\n",
        "\t\t\tself.cost_.append(cost)\n",
        "\t\treturn self\n",
        "\n",
        "\tdef net_input(self, X):\n",
        "\n",
        "\t\t\"\"\" Calculate net input \"\"\"\n",
        "\n",
        "\t\treturn np.dot(X, self.w_[1:]) + self.w_[0]\n",
        "\n",
        "\tdef activation(self, X):\n",
        "\n",
        "\t\t\"\"\" Compute linear activation \"\"\"\n",
        "\n",
        "\t\treturn self.net_input(X)\n",
        "\n",
        "\tdef predict(self, X):\n",
        "\n",
        "\t\t\"\"\" Return class label after unit step \"\"\"\n",
        "\n",
        "\t\treturn np.where(self.activation(X) >= 0.0, 1, -1)"
      ],
      "metadata": {
        "id": "Pz7_P5MVjFgr"
      },
      "execution_count": 4,
      "outputs": []
    },
    {
      "cell_type": "code",
      "source": [
        "def plot_decision_regions(X, y, classifier, resolution=0.02):\n",
        "\n",
        "    # setup marker generator and color map\n",
        "    markers = ('s', 'x', 'o', '^', 'v')\n",
        "    colors = ('red', 'blue', 'lightgreen', 'gray', 'cyan')\n",
        "    cmap = ListedColormap(colors[:len(np.unique(y))])\n",
        "\n",
        "    # plot the decision surface\n",
        "    x1_min, x1_max = X[:, 0].min() - 1, X[:, 0].max() + 1\n",
        "    x2_min, x2_max = X[:, 1].min() - 1, X[:, 1].max() + 1\n",
        "    xx1, xx2 = np.meshgrid(np.arange(x1_min, x1_max, resolution),\n",
        "                           np.arange(x2_min, x2_max, resolution))\n",
        "    Z = classifier.predict(np.array([xx1.ravel(), xx2.ravel()]).T)\n",
        "    Z = Z.reshape(xx1.shape)\n",
        "    plt.contourf(xx1, xx2, Z, alpha=0.4, cmap=cmap)\n",
        "    plt.xlim(xx1.min(), xx1.max())\n",
        "    plt.ylim(xx2.min(), xx2.max())\n",
        "\n",
        "    # plot class samples\n",
        "    for idx, cl in enumerate(np.unique(y)):\n",
        "        plt.scatter(x=X[y == cl, 0], y=X[y == cl, 1],\n",
        "                    alpha=0.8, c=cmap(idx),\n",
        "                    edgecolor='black',\n",
        "                    marker=markers[idx], \n",
        "                    label=cl)"
      ],
      "metadata": {
        "id": "b6mYONJ3jHVz"
      },
      "execution_count": 5,
      "outputs": []
    },
    {
      "cell_type": "code",
      "source": [
        "# Create the AdalineGD model\n",
        "model1 = AdalineGD(n_iter = 100, eta = 0.1)\n",
        "\n",
        "# Train the model\n",
        "model1.fit(features,labels)"
      ],
      "metadata": {
        "colab": {
          "base_uri": "https://localhost:8080/"
        },
        "id": "HwmbrdlWjJK2",
        "outputId": "9f7ccef7-c4a7-447f-bafa-c87a35f51b8d"
      },
      "execution_count": 6,
      "outputs": [
        {
          "output_type": "execute_result",
          "data": {
            "text/plain": [
              "<__main__.AdalineGD at 0x7ff0482465d0>"
            ]
          },
          "metadata": {},
          "execution_count": 6
        }
      ]
    },
    {
      "cell_type": "code",
      "source": [
        "# Plot the training error\n",
        "plt.plot(range(1, len(model1.cost_) + 1), model1.cost_, color = 'blue')\n",
        "plt.title('Adaline - Learning rate 0.10')\n",
        "plt.xlabel('Epochs')\n",
        "plt.ylabel('Mean-squared-error')\n",
        "plt.show()"
      ],
      "metadata": {
        "colab": {
          "base_uri": "https://localhost:8080/",
          "height": 294
        },
        "id": "GHO9Z6DkjPD7",
        "outputId": "c07d7618-af54-44dd-ae3d-8a62fd3ee326"
      },
      "execution_count": 7,
      "outputs": [
        {
          "output_type": "display_data",
          "data": {
            "image/png": "[encoded data removed]",
            "text/plain": [
              "<Figure size 432x288 with 1 Axes>"
            ]
          },
          "metadata": {
            "needs_background": "light"
          }
        }
      ]
    },
    {
      "cell_type": "code",
      "source": [
        "print(model1.cost_[99])"
      ],
      "metadata": {
        "colab": {
          "base_uri": "https://localhost:8080/"
        },
        "id": "xckuyUCjbmO6",
        "outputId": "ef6cf9d4-ba32-499c-f7eb-d0da08ec9106"
      },
      "execution_count": 8,
      "outputs": [
        {
          "output_type": "stream",
          "name": "stdout",
          "text": [
            "0.637004118497819\n"
          ]
        }
      ]
    },
    {
      "cell_type": "code",
      "source": [
        "# Plot the decision boundary\n",
        "plot_decision_regions(features,labels, classifier = model1)\n",
        "plt.title('Adaline - Decision Boundary')\n",
        "plt.legend(loc = 'upper left')\n",
        "plt.show()"
      ],
      "metadata": {
        "colab": {
          "base_uri": "https://localhost:8080/",
          "height": 281
        },
        "id": "4dd0QmiajT2s",
        "outputId": "5eb044ea-6efd-4585-ccfc-b5befb3468b6"
      },
      "execution_count": 9,
      "outputs": [
        {
          "output_type": "display_data",
          "data": {
            "image/png": "[encoded data removed]",
            "text/plain": [
              "<Figure size 432x288 with 1 Axes>"
            ]
          },
          "metadata": {
            "needs_background": "light"
          }
        }
      ]
    },
    {
      "cell_type": "markdown",
      "source": [
        "## ADALINE WITH GENETIC ALGORITHM"
      ],
      "metadata": {
        "id": "GfmbNY00e_dT"
      }
    },
    {
      "cell_type": "code",
      "source": [
        "import random\n",
        "import logging\n",
        "import pandas as pd\n",
        "import numpy as np\n",
        "from sklearn.metrics import accuracy_score\n",
        "from keras.models import Sequential\n",
        "from keras.layers import Dense\n",
        "from keras import optimizers\n",
        "import tensorflow as tf"
      ],
      "metadata": {
        "id": "8eZ1hbXilnwW"
      },
      "execution_count": 10,
      "outputs": []
    },
    {
      "cell_type": "code",
      "source": [
        "!pip install pygad"
      ],
      "metadata": {
        "colab": {
          "base_uri": "https://localhost:8080/"
        },
        "id": "4qLUPvleN3Mf",
        "outputId": "609eb3cf-7dea-48e4-8df8-f2dbd3a2c021"
      },
      "execution_count": 11,
      "outputs": [
        {
          "output_type": "stream",
          "name": "stdout",
          "text": [
            "Requirement already satisfied: pygad in /usr/local/lib/python3.7/dist-packages (2.16.3)\n",
            "Requirement already satisfied: matplotlib in /usr/local/lib/python3.7/dist-packages (from pygad) (3.2.2)\n",
            "Requirement already satisfied: numpy in /usr/local/lib/python3.7/dist-packages (from pygad) (1.21.5)\n",
            "Requirement already satisfied: python-dateutil>=2.1 in /usr/local/lib/python3.7/dist-packages (from matplotlib->pygad) (2.8.2)\n",
            "Requirement already satisfied: pyparsing!=2.0.4,!=2.1.2,!=2.1.6,>=2.0.1 in /usr/local/lib/python3.7/dist-packages (from matplotlib->pygad) (3.0.7)\n",
            "Requirement already satisfied: kiwisolver>=1.0.1 in /usr/local/lib/python3.7/dist-packages (from matplotlib->pygad) (1.3.2)\n",
            "Requirement already satisfied: cycler>=0.10 in /usr/local/lib/python3.7/dist-packages (from matplotlib->pygad) (0.11.0)\n",
            "Requirement already satisfied: six>=1.5 in /usr/local/lib/python3.7/dist-packages (from python-dateutil>=2.1->matplotlib->pygad) (1.15.0)\n"
          ]
        }
      ]
    },
    {
      "cell_type": "code",
      "source": [
        "import numpy\n",
        "import pygad\n",
        "import pygad.nn\n",
        "import pygad.gann\n",
        "\n",
        "MSE_List = []\n",
        "\n",
        "def fitness_func(solution, sol_idx):\n",
        "    global GANN_instance, data_inputs, data_outputs\n",
        "\n",
        "    predictions = pygad.nn.predict(last_layer=GANN_instance.population_networks[sol_idx],\n",
        "                                   data_inputs=data_inputs, problem_type=\"regression\")\n",
        "    # Mean Squared Error\n",
        "    MSE = 1.0/numpy.mean(numpy.abs(predictions - data_outputs))\n",
        "    MSE_List.append(MSE)\n",
        "\n",
        "    return MSE\n",
        "\n",
        "def callback_generation(ga_instance):\n",
        "    global GANN_instance, last_fitness\n",
        "\n",
        "    population_matrices = pygad.gann.population_as_matrices(population_networks=GANN_instance.population_networks, \n",
        "                                                            population_vectors=ga_instance.population)\n",
        "\n",
        "    GANN_instance.update_population_trained_weights(population_trained_weights=population_matrices)\n",
        "\n",
        "    print(\"Generation = {generation}\".format(generation=ga_instance.generations_completed))\n",
        "    print(\"Fitness    = {fitness}\".format(fitness=ga_instance.best_solution()[1]))\n",
        "    print(\"Change     = {change}\".format(change=ga_instance.best_solution()[1] - last_fitness))\n",
        "\n",
        "    last_fitness = ga_instance.best_solution()[1].copy()\n",
        "\n",
        "# Holds the fitness value of the previous generation.\n",
        "last_fitness = 0\n",
        "\n",
        "# Preparing the NumPy array of the inputs.\n",
        "data_inputs = numpy.array([[0.08, 0.72],\n",
        "        [0.26, 0.58],\n",
        "        [0.45, 0.15],\n",
        "        [0.60, 0.30],\n",
        "        [0.10, 1.0],\n",
        "        [0.35, 0.95],\n",
        "        [0.70, 0.65],\n",
        "        [0.92, 0.45]])\n",
        "\n",
        "# Preparing the NumPy array of the outputs.\n",
        "data_outputs = numpy.array([[1],[1],[1],[1],[-1],[-1],[-1],[-1]])\n",
        "\n",
        "# The length of the input vector for each sample (i.e. number of neurons in the input layer).\n",
        "num_inputs = data_inputs.shape[1]\n",
        "\n",
        "# Creating an initial population of neural networks. The return of the initial_population() function holds references to the networks, not their weights. Using such references, the weights of all networks can be fetched.\n",
        "num_solutions = 6 # A solution or a network can be used interchangeably.\n",
        "GANN_instance = pygad.gann.GANN(num_solutions=num_solutions,\n",
        "                                num_neurons_input=num_inputs,\n",
        "                                num_neurons_hidden_layers=[3],\n",
        "                                num_neurons_output=1,\n",
        "                                hidden_activations=[\"relu\"],\n",
        "                                output_activation=\"None\")\n",
        "\n",
        "# population does not hold the numerical weights of the network instead it holds a list of references to each last layer of each network (i.e. solution) in the population. A solution or a network can be used interchangeably.\n",
        "# If there is a population with 3 solutions (i.e. networks), then the population is a list with 3 elements. Each element is a reference to the last layer of each network. Using such a reference, all details of the network can be accessed.\n",
        "population_vectors = pygad.gann.population_as_vectors(population_networks=GANN_instance.population_networks)\n",
        "\n",
        "# To prepare the initial population, there are 2 ways:\n",
        "# 1) Prepare it yourself and pass it to the initial_population parameter. This way is useful when the user wants to start the genetic algorithm with a custom initial population.\n",
        "# 2) Assign valid integer values to the sol_per_pop and num_genes parameters. If the initial_population parameter exists, then the sol_per_pop and num_genes parameters are useless.\n",
        "initial_population = population_vectors.copy()\n",
        "\n",
        "num_parents_mating = 6 # Number of solutions to be selected as parents in the mating pool.\n",
        "\n",
        "num_generations = 100 # Number of generations.\n",
        "\n",
        "mutation_percent_genes = 5 # Percentage of genes to mutate. This parameter has no action if the parameter mutation_num_genes exists.\n",
        "\n",
        "parent_selection_type = \"sss\" # Type of parent selection.\n",
        "\n",
        "crossover_type = \"single_point\" # Type of the crossover operator.\n",
        "\n",
        "mutation_type = \"random\" # Type of the mutation operator.\n",
        "\n",
        "keep_parents = 1 # Number of parents to keep in the next population. -1 means keep all parents and 0 means keep nothing.\n",
        "\n",
        "init_range_low = -1\n",
        "init_range_high = 1\n",
        "\n",
        "ga_instance = pygad.GA(num_generations=num_generations, \n",
        "                       num_parents_mating=num_parents_mating, \n",
        "                       initial_population=initial_population,\n",
        "                       fitness_func=fitness_func,\n",
        "                       mutation_percent_genes=mutation_percent_genes,\n",
        "                       init_range_low=init_range_low,\n",
        "                       init_range_high=init_range_high,\n",
        "                       parent_selection_type=parent_selection_type,\n",
        "                       crossover_type=crossover_type,\n",
        "                       mutation_type=mutation_type,\n",
        "                       keep_parents=keep_parents,\n",
        "                       on_generation=callback_generation)\n",
        "\n",
        "ga_instance.run()\n",
        "\n",
        "# After the generations complete, some plots are showed that summarize how the outputs/fitness values evolve over generations.\n",
        "ga_instance.plot_fitness(title=\"ADALINE WITH GENETIC ALGORITHM - Iteration vs. Fitness\", linewidth=4)\n",
        "\n",
        "# Returning the details of the best solution.\n",
        "solution, solution_fitness, solution_idx = ga_instance.best_solution()\n",
        "print(\"Parameters of the best solution : {solution}\".format(solution=solution))\n",
        "print(\"Fitness value of the best solution = {solution_fitness}\".format(solution_fitness=solution_fitness))\n",
        "print(\"Index of the best solution : {solution_idx}\".format(solution_idx=solution_idx))\n",
        "\n",
        "if ga_instance.best_solution_generation != -1:\n",
        "    print(\"Best fitness value reached after {best_solution_generation} generations.\".format(best_solution_generation=ga_instance.best_solution_generation))\n",
        "\n",
        "# Predicting the outputs of the data using the best solution.\n",
        "predictions = pygad.nn.predict(last_layer=GANN_instance.population_networks[solution_idx],\n",
        "                               data_inputs=data_inputs,\n",
        "                               problem_type=\"regression\")\n",
        "print(\"Predictions of the trained network : {predictions}\".format(predictions=predictions))\n",
        "\n",
        "# Calculating some statistics\n",
        "abs_error = numpy.mean(numpy.abs(predictions - data_outputs))\n",
        "print(\"Absolute error : {abs_error}.\".format(abs_error=abs_error))"
      ],
      "metadata": {
        "colab": {
          "base_uri": "https://localhost:8080/",
          "height": 1000
        },
        "id": "fylggEuibayv",
        "outputId": "82b9630c-a5a4-4559-874b-cdb9f9780ad5"
      },
      "execution_count": 12,
      "outputs": [
        {
          "output_type": "stream",
          "name": "stderr",
          "text": [
            "/usr/local/lib/python3.7/dist-packages/pygad/pygad.py:486: UserWarning: The percentage of genes to mutate (mutation_percent_genes=5) resutled in selecting (0) genes. The number of genes to mutate is set to 1 (mutation_num_genes=1).\n",
            "If you do not want to mutate any gene, please set mutation_type=None.\n",
            "  if not self.suppress_warnings: warnings.warn(\"The percentage of genes to mutate (mutation_percent_genes={mutation_percent}) resutled in selecting ({mutation_num}) genes. The number of genes to mutate is set to 1 (mutation_num_genes=1).\\nIf you do not want to mutate any gene, please set mutation_type=None.\".format(mutation_percent=mutation_percent_genes, mutation_num=mutation_num_genes))\n"
          ]
        },
        {
          "output_type": "stream",
          "name": "stdout",
          "text": [
            "Generation = 1\n",
            "Fitness    = 1.0021860260242808\n",
            "Change     = 1.0021860260242808\n",
            "Generation = 2\n",
            "Fitness    = 1.0093894922379651\n",
            "Change     = 0.007203466213684395\n",
            "Generation = 3\n",
            "Fitness    = 1.0093894922379651\n",
            "Change     = 0.0\n",
            "Generation = 4\n",
            "Fitness    = 1.0864923160133204\n",
            "Change     = 0.07710282377535527\n",
            "Generation = 5\n",
            "Fitness    = 1.0864923160133204\n",
            "Change     = 0.0\n",
            "Generation = 6\n",
            "Fitness    = 1.0864923160133204\n",
            "Change     = 0.0\n",
            "Generation = 7\n",
            "Fitness    = 1.0864923160133204\n",
            "Change     = 0.0\n",
            "Generation = 8\n",
            "Fitness    = 1.0864923160133204\n",
            "Change     = 0.0\n",
            "Generation = 9\n",
            "Fitness    = 1.0864923160133204\n",
            "Change     = 0.0\n",
            "Generation = 10\n",
            "Fitness    = 1.0864923160133204\n",
            "Change     = 0.0\n",
            "Generation = 11\n",
            "Fitness    = 1.0864923160133204\n",
            "Change     = 0.0\n",
            "Generation = 12\n",
            "Fitness    = 1.0864923160133204\n",
            "Change     = 0.0\n",
            "Generation = 13\n",
            "Fitness    = 1.0974690427870448\n",
            "Change     = 0.01097672677372441\n",
            "Generation = 14\n",
            "Fitness    = 1.135539704360845\n",
            "Change     = 0.038070661573800235\n",
            "Generation = 15\n",
            "Fitness    = 1.151066861773951\n",
            "Change     = 0.015527157413105952\n",
            "Generation = 16\n",
            "Fitness    = 1.151066861773951\n",
            "Change     = 0.0\n",
            "Generation = 17\n",
            "Fitness    = 1.152506108731579\n",
            "Change     = 0.001439246957628093\n",
            "Generation = 18\n",
            "Fitness    = 1.1898813843867988\n",
            "Change     = 0.0373752756552197\n",
            "Generation = 19\n",
            "Fitness    = 1.1898813843867988\n",
            "Change     = 0.0\n",
            "Generation = 20\n",
            "Fitness    = 1.1898813843867988\n",
            "Change     = 0.0\n",
            "Generation = 21\n",
            "Fitness    = 1.1898813843867988\n",
            "Change     = 0.0\n",
            "Generation = 22\n",
            "Fitness    = 1.1898813843867988\n",
            "Change     = 0.0\n",
            "Generation = 23\n",
            "Fitness    = 1.1898813843867988\n",
            "Change     = 0.0\n",
            "Generation = 24\n",
            "Fitness    = 1.1898813843867988\n",
            "Change     = 0.0\n",
            "Generation = 25\n",
            "Fitness    = 1.1898813843867988\n",
            "Change     = 0.0\n",
            "Generation = 26\n",
            "Fitness    = 1.1898813843867988\n",
            "Change     = 0.0\n",
            "Generation = 27\n",
            "Fitness    = 1.1898813843867988\n",
            "Change     = 0.0\n",
            "Generation = 28\n",
            "Fitness    = 1.1898813843867988\n",
            "Change     = 0.0\n",
            "Generation = 29\n",
            "Fitness    = 1.1898813843867988\n",
            "Change     = 0.0\n",
            "Generation = 30\n",
            "Fitness    = 1.1898813843867988\n",
            "Change     = 0.0\n",
            "Generation = 31\n",
            "Fitness    = 1.1997793918315924\n",
            "Change     = 0.009898007444793633\n",
            "Generation = 32\n",
            "Fitness    = 1.1997793918315924\n",
            "Change     = 0.0\n",
            "Generation = 33\n",
            "Fitness    = 1.1997793918315924\n",
            "Change     = 0.0\n",
            "Generation = 34\n",
            "Fitness    = 1.1997793918315924\n",
            "Change     = 0.0\n",
            "Generation = 35\n",
            "Fitness    = 1.1997793918315924\n",
            "Change     = 0.0\n",
            "Generation = 36\n",
            "Fitness    = 1.1997793918315924\n",
            "Change     = 0.0\n",
            "Generation = 37\n",
            "Fitness    = 1.1997793918315924\n",
            "Change     = 0.0\n",
            "Generation = 38\n",
            "Fitness    = 1.1997793918315924\n",
            "Change     = 0.0\n",
            "Generation = 39\n",
            "Fitness    = 1.1997793918315924\n",
            "Change     = 0.0\n",
            "Generation = 40\n",
            "Fitness    = 1.1997793918315924\n",
            "Change     = 0.0\n",
            "Generation = 41\n",
            "Fitness    = 1.1997793918315924\n",
            "Change     = 0.0\n",
            "Generation = 42\n",
            "Fitness    = 1.1997793918315924\n",
            "Change     = 0.0\n",
            "Generation = 43\n",
            "Fitness    = 1.1997793918315924\n",
            "Change     = 0.0\n",
            "Generation = 44\n",
            "Fitness    = 1.1997793918315924\n",
            "Change     = 0.0\n",
            "Generation = 45\n",
            "Fitness    = 1.1997793918315924\n",
            "Change     = 0.0\n",
            "Generation = 46\n",
            "Fitness    = 1.1997793918315924\n",
            "Change     = 0.0\n",
            "Generation = 47\n",
            "Fitness    = 1.1997793918315924\n",
            "Change     = 0.0\n",
            "Generation = 48\n",
            "Fitness    = 1.1997793918315924\n",
            "Change     = 0.0\n",
            "Generation = 49\n",
            "Fitness    = 1.1997793918315924\n",
            "Change     = 0.0\n",
            "Generation = 50\n",
            "Fitness    = 1.1997793918315924\n",
            "Change     = 0.0\n",
            "Generation = 51\n",
            "Fitness    = 1.1997793918315924\n",
            "Change     = 0.0\n",
            "Generation = 52\n",
            "Fitness    = 1.1997793918315924\n",
            "Change     = 0.0\n",
            "Generation = 53\n",
            "Fitness    = 1.1997793918315924\n",
            "Change     = 0.0\n",
            "Generation = 54\n",
            "Fitness    = 1.1997793918315924\n",
            "Change     = 0.0\n",
            "Generation = 55\n",
            "Fitness    = 1.1997793918315924\n",
            "Change     = 0.0\n",
            "Generation = 56\n",
            "Fitness    = 1.1997793918315924\n",
            "Change     = 0.0\n",
            "Generation = 57\n",
            "Fitness    = 1.1997793918315924\n",
            "Change     = 0.0\n",
            "Generation = 58\n",
            "Fitness    = 1.1997793918315924\n",
            "Change     = 0.0\n",
            "Generation = 59\n",
            "Fitness    = 1.1997793918315924\n",
            "Change     = 0.0\n",
            "Generation = 60\n",
            "Fitness    = 1.1997793918315924\n",
            "Change     = 0.0\n",
            "Generation = 61\n",
            "Fitness    = 1.1997793918315924\n",
            "Change     = 0.0\n",
            "Generation = 62\n",
            "Fitness    = 1.1997793918315924\n",
            "Change     = 0.0\n",
            "Generation = 63\n",
            "Fitness    = 1.1997793918315924\n",
            "Change     = 0.0\n",
            "Generation = 64\n",
            "Fitness    = 1.1997793918315924\n",
            "Change     = 0.0\n",
            "Generation = 65\n",
            "Fitness    = 1.1997793918315924\n",
            "Change     = 0.0\n",
            "Generation = 66\n",
            "Fitness    = 1.2090967018435788\n",
            "Change     = 0.009317310011986324\n",
            "Generation = 67\n",
            "Fitness    = 1.2090967018435788\n",
            "Change     = 0.0\n",
            "Generation = 68\n",
            "Fitness    = 1.2090967018435788\n",
            "Change     = 0.0\n",
            "Generation = 69\n",
            "Fitness    = 1.2090967018435788\n",
            "Change     = 0.0\n",
            "Generation = 70\n",
            "Fitness    = 1.2090967018435788\n",
            "Change     = 0.0\n",
            "Generation = 71\n",
            "Fitness    = 1.2090967018435788\n",
            "Change     = 0.0\n",
            "Generation = 72\n",
            "Fitness    = 1.2090967018435788\n",
            "Change     = 0.0\n",
            "Generation = 73\n",
            "Fitness    = 1.2090967018435788\n",
            "Change     = 0.0\n",
            "Generation = 74\n",
            "Fitness    = 1.2090967018435788\n",
            "Change     = 0.0\n",
            "Generation = 75\n",
            "Fitness    = 1.2090967018435788\n",
            "Change     = 0.0\n",
            "Generation = 76\n",
            "Fitness    = 1.2090967018435788\n",
            "Change     = 0.0\n",
            "Generation = 77\n",
            "Fitness    = 1.2090967018435788\n",
            "Change     = 0.0\n",
            "Generation = 78\n",
            "Fitness    = 1.2090967018435788\n",
            "Change     = 0.0\n",
            "Generation = 79\n",
            "Fitness    = 1.2090967018435788\n",
            "Change     = 0.0\n",
            "Generation = 80\n",
            "Fitness    = 1.2090967018435788\n",
            "Change     = 0.0\n",
            "Generation = 81\n",
            "Fitness    = 1.2090967018435788\n",
            "Change     = 0.0\n",
            "Generation = 82\n",
            "Fitness    = 1.2090967018435788\n",
            "Change     = 0.0\n",
            "Generation = 83\n",
            "Fitness    = 1.2090967018435788\n",
            "Change     = 0.0\n",
            "Generation = 84\n",
            "Fitness    = 1.2090967018435788\n",
            "Change     = 0.0\n",
            "Generation = 85\n",
            "Fitness    = 1.2110274518998576\n",
            "Change     = 0.0019307500562788515\n",
            "Generation = 86\n",
            "Fitness    = 1.2110274518998576\n",
            "Change     = 0.0\n",
            "Generation = 87\n",
            "Fitness    = 1.2110274518998576\n",
            "Change     = 0.0\n",
            "Generation = 88\n",
            "Fitness    = 1.2110274518998576\n",
            "Change     = 0.0\n",
            "Generation = 89\n",
            "Fitness    = 1.2110274518998576\n",
            "Change     = 0.0\n",
            "Generation = 90\n",
            "Fitness    = 1.2110274518998576\n",
            "Change     = 0.0\n",
            "Generation = 91\n",
            "Fitness    = 1.2110274518998576\n",
            "Change     = 0.0\n",
            "Generation = 92\n",
            "Fitness    = 1.2110274518998576\n",
            "Change     = 0.0\n",
            "Generation = 93\n",
            "Fitness    = 1.2110274518998576\n",
            "Change     = 0.0\n",
            "Generation = 94\n",
            "Fitness    = 1.2110274518998576\n",
            "Change     = 0.0\n",
            "Generation = 95\n",
            "Fitness    = 1.2110274518998576\n",
            "Change     = 0.0\n",
            "Generation = 96\n",
            "Fitness    = 1.2110274518998576\n",
            "Change     = 0.0\n",
            "Generation = 97\n",
            "Fitness    = 1.2110274518998576\n",
            "Change     = 0.0\n",
            "Generation = 98\n",
            "Fitness    = 1.2110274518998576\n",
            "Change     = 0.0\n",
            "Generation = 99\n",
            "Fitness    = 1.2110274518998576\n",
            "Change     = 0.0\n",
            "Generation = 100\n",
            "Fitness    = 1.2110274518998576\n",
            "Change     = 0.0\n"
          ]
        },
        {
          "output_type": "display_data",
          "data": {
            "image/png": "[encoded data removed]",
            "text/plain": [
              "<Figure size 432x288 with 1 Axes>"
            ]
          },
          "metadata": {
            "needs_background": "light"
          }
        },
        {
          "output_type": "stream",
          "name": "stdout",
          "text": [
            "Parameters of the best solution : [ 1.02371173  1.22981482 -0.5258847  -0.12259843  0.0994051  -0.66067825\n",
            "  0.47190566 -1.18985574  0.09964847]\n",
            "Fitness value of the best solution = 1.2110274518998576\n",
            "Index of the best solution : 0\n",
            "Best fitness value reached after 85 generations.\n",
            "Predictions of the trained network : [array([-0.71983955]), array([-0.61431446]), array([-0.22629071]), array([-0.39974163]), array([-0.99782012]), array([-0.99284293]), array([-0.76042729]), array([-0.60313509])]\n",
            "Absolute error : 0.8257451129049155.\n"
          ]
        }
      ]
    },
    {
      "cell_type": "code",
      "source": [
        "# Plot the training error\n",
        "plt.plot(MSE_List, color = 'orange')\n",
        "plt.title('Adaline With GA - Learning rate 0.10')\n",
        "plt.xlabel('Epochs')\n",
        "plt.ylabel('Mean-squared-error')\n",
        "plt.show()"
      ],
      "metadata": {
        "colab": {
          "base_uri": "https://localhost:8080/",
          "height": 294
        },
        "id": "z2mzvVzXccjp",
        "outputId": "20666be0-5271-4df4-9f1f-8edcd8bf8cf1"
      },
      "execution_count": 13,
      "outputs": [
        {
          "output_type": "display_data",
          "data": {
            "image/png": "[encoded data removed]",
            "text/plain": [
              "<Figure size 432x288 with 1 Axes>"
            ]
          },
          "metadata": {
            "needs_background": "light"
          }
        }
      ]
    },
    {
      "cell_type": "markdown",
      "source": [
        "## COMPARISON RESULT ADALINE WITH 100 EPOCH and ADALINE WITH GENETIC ALGORITHM 100 GENERATIONS"
      ],
      "metadata": {
        "id": "jtirMH5Uprz7"
      }
    },
    {
      "cell_type": "code",
      "source": [
        "# using subplot function and creating plot one\n",
        "# row 2, column 1, count 1\n",
        "plt.subplot(2, 1, 1)\n",
        "plt.plot(range(1, len(model1.cost_) + 1), model1.cost_, color = 'blue')\n",
        "plt.title('Adaline - Learning rate 0.10 (100 Epochs)')\n",
        "plt.xlabel('Epochs')\n",
        "plt.ylabel('Mean-squared-error')\n",
        "plt.show()\n",
        "\n",
        "print('Mean Squared Error ( last epoch) : ',model1.cost_[len(model1.cost_)-1])\n",
        " \n",
        "# using subplot function and creating plot two\n",
        "# row 2, column 1, count 2\n",
        "plt.subplot(2, 1, 2)\n",
        "plt.plot(MSE_List, color = 'orange')\n",
        "plt.title('Adaline With GA - Learning rate 0.10 (100 Generations)')\n",
        "plt.xlabel('Epochs')\n",
        "plt.ylabel('Mean-squared-error')\n",
        "plt.show()\n",
        "\n",
        "print('Mean Squared Error ( last generations) : ',MSE_List[len(MSE_List)-1])\n",
        " \n",
        "# space between the plots\n",
        "plt.tight_layout()\n",
        " \n",
        "# show plot\n",
        "plt.show()"
      ],
      "metadata": {
        "colab": {
          "base_uri": "https://localhost:8080/",
          "height": 392
        },
        "id": "tTX0pGzcp1vw",
        "outputId": "9ed1e04e-7592-4736-e217-d478d66fe759"
      },
      "execution_count": 17,
      "outputs": [
        {
          "output_type": "display_data",
          "data": {
            "image/png": "[encoded data removed]",
            "text/plain": [
              "<Figure size 432x288 with 1 Axes>"
            ]
          },
          "metadata": {
            "needs_background": "light"
          }
        },
        {
          "output_type": "stream",
          "name": "stdout",
          "text": [
            "Mean Squared Error ( last epoch) :  0.637004118497819\n"
          ]
        },
        {
          "output_type": "display_data",
          "data": {
            "image/png": "[encoded data removed]",
            "text/plain": [
              "<Figure size 432x288 with 1 Axes>"
            ]
          },
          "metadata": {
            "needs_background": "light"
          }
        },
        {
          "output_type": "stream",
          "name": "stdout",
          "text": [
            "Mean Squared Error ( last generations) :  0.8290066004022892\n"
          ]
        },
        {
          "output_type": "display_data",
          "data": {
            "text/plain": [
              "<Figure size 432x288 with 0 Axes>"
            ]
          },
          "metadata": {}
        }
      ]
    },
    {
      "cell_type": "markdown",
      "source": [
        "### From The Result Above, ADALINE WITHOUT GA IS MORE SUITABLE FOR THIS CASE OF PROBLEM"
      ],
      "metadata": {
        "id": "6xvACbrhqsm_"
      }
    }
  ]
}